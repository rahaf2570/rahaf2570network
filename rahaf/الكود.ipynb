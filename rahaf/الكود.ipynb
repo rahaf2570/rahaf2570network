{
 "cells": [
  {
   "cell_type": "code",
   "execution_count": null,
   "id": "45b2588b",
   "metadata": {},
   "outputs": [],
   "source": [
    "#السؤال الاول الطلب A"
   ]
  },
  {
   "cell_type": "code",
   "execution_count": 1,
   "id": "de0649d3",
   "metadata": {},
   "outputs": [
    {
     "name": "stdout",
     "output_type": "stream",
     "text": [
      "{'HTTP': 80, 'HTTPS': 443, 'FTP': 20, 'DNS': 53}\n"
     ]
    }
   ],
   "source": [
    "L1=['HTTP','HTTPS','FTP','DNS']\n",
    "L2=[80,443,20,53]\n",
    "d=dict()\n",
    "for i in range(len(L1)):\n",
    "    d[L1[i]]=L2[i]\n",
    "print(d)"
   ]
  },
  {
   "cell_type": "code",
   "execution_count": 2,
   "id": "5a936662",
   "metadata": {},
   "outputs": [],
   "source": [
    "#B"
   ]
  },
  {
   "cell_type": "code",
   "execution_count": 1,
   "id": "86b53564",
   "metadata": {},
   "outputs": [
    {
     "name": "stdout",
     "output_type": "stream",
     "text": [
      "enter number: 1\n",
      "1\n",
      "enter number: 2\n",
      "2\n",
      "enter number: 4\n",
      "24\n",
      "enter number: 3\n",
      "6\n",
      "enter number: 0\n",
      "1\n",
      "enter number: -1\n"
     ]
    }
   ],
   "source": [
    "def func(n):\n",
    "    f=1\n",
    "    while n>0:\n",
    "        f=f*n\n",
    "        n-=1\n",
    "    return f\n",
    "while True:\n",
    "    s=input(\"enter number: \")\n",
    "    s=int(s)\n",
    "    if s<0:\n",
    "        break\n",
    "    if s==0:\n",
    "        print(1)\n",
    "        continue\n",
    "    print(func(s))"
   ]
  },
  {
   "cell_type": "code",
   "execution_count": 4,
   "id": "d381e446",
   "metadata": {},
   "outputs": [],
   "source": [
    "#C"
   ]
  },
  {
   "cell_type": "code",
   "execution_count": 4,
   "id": "60e38866",
   "metadata": {},
   "outputs": [
    {
     "name": "stdout",
     "output_type": "stream",
     "text": [
      "Bio\n"
     ]
    }
   ],
   "source": [
    "L=['Network','Bio','Programming','Physics','Music']\n",
    "for i in range(len(L)):\n",
    "    if L[i].startswith('B'):\n",
    "        print(L[i])"
   ]
  },
  {
   "cell_type": "code",
   "execution_count": 6,
   "id": "ed620389",
   "metadata": {},
   "outputs": [],
   "source": [
    "#D"
   ]
  },
  {
   "cell_type": "code",
   "execution_count": 6,
   "id": "213553d1",
   "metadata": {},
   "outputs": [
    {
     "name": "stdout",
     "output_type": "stream",
     "text": [
      "{0: 1, 1: 2, 2: 3, 3: 4, 4: 5, 5: 6, 6: 7, 7: 8, 8: 9, 9: 10, 10: 11}\n"
     ]
    }
   ],
   "source": [
    "d={k:k+1 for k in range(11)}\n",
    "print(d)"
   ]
  },
  {
   "cell_type": "code",
   "execution_count": 8,
   "id": "6356d1e0",
   "metadata": {},
   "outputs": [],
   "source": [
    "#السؤال الثاني"
   ]
  },
  {
   "cell_type": "code",
   "execution_count": 7,
   "id": "7d1438ce",
   "metadata": {},
   "outputs": [
    {
     "name": "stdout",
     "output_type": "stream",
     "text": [
      "enter an binary number: 100\n",
      "4\n"
     ]
    }
   ],
   "source": [
    "bin_num = input(\"enter an binary number: \")\n",
    "t=0\n",
    "for i in bin_num:\n",
    "    if i =='0' or i=='1':\n",
    "        pass\n",
    "    else:\n",
    "        t+=1\n",
    "        print('error')\n",
    "        break\n",
    "if t==0:\n",
    "    deci_num = 0\n",
    "    for i in range(len(bin_num)):\n",
    "        digit = int(bin_num[i])\n",
    "        deci_num += digit * 2**(len(bin_num)-i-1)\n",
    "    print(deci_num)"
   ]
  },
  {
   "cell_type": "code",
   "execution_count": 10,
   "id": "1b3022d3",
   "metadata": {},
   "outputs": [],
   "source": [
    "#السؤال الثالث"
   ]
  },
  {
   "cell_type": "code",
   "execution_count": 8,
   "id": "3b005121",
   "metadata": {},
   "outputs": [
    {
     "name": "stdout",
     "output_type": "stream",
     "text": [
      "enter your name: Rahaf\n",
      "1+1\n",
      "2\n",
      "2+2\n",
      "4\n",
      "3+3\n",
      "6\n",
      "4+4\n",
      "8\n",
      "5+5\n",
      "20\n",
      "6+6\n",
      "12\n",
      "7+7\n",
      "14\n",
      "{'1+1': '2', '2+2': '4', '3+3': '6', '4+4': '8', '6+6': '12', '7+7': '14', 'Rahaf': 6}\n"
     ]
    }
   ],
   "source": [
    "import json\n",
    "infile='1.json'\n",
    "infile=open(infile,'r')\n",
    "num=0\n",
    "u=input('enter your name: ')\n",
    "d=dict()\n",
    "dic=json.load(infile)\n",
    "infile.close()\n",
    "for k,v in dic.items():\n",
    "    print(k)\n",
    "    a=input()\n",
    "    if a == v:\n",
    "        num+=1\n",
    "        d[k]=v\n",
    "d[u]=num\n",
    "print(d)\n",
    "outfile='2.json'\n",
    "outfile=open(outfile,'w')\n",
    "json.dump(d,outfile)\n",
    "outfile.close()\n"
   ]
  },
  {
   "cell_type": "code",
   "execution_count": 8,
   "id": "420aa2d3",
   "metadata": {},
   "outputs": [],
   "source": [
    "#السؤال الرابع"
   ]
  },
  {
   "cell_type": "code",
   "execution_count": 7,
   "id": "51790768",
   "metadata": {},
   "outputs": [
    {
     "name": "stdout",
     "output_type": "stream",
     "text": [
      "Current balance: $1000.00\n",
      "Current balance: $500.00\n",
      "Account Number: 67890\n",
      "Account Holder: RAHAF\n",
      "Balance: $10.50\n",
      "Interest Rate: 5.00%\n"
     ]
    }
   ],
   "source": [
    "class BankAccount:\n",
    "    def __init__(self, account_number, account_holder):\n",
    "        self.account_number = account_number\n",
    "        self.account_holder = account_holder\n",
    "        self.balance = 0.0\n",
    "\n",
    "    def deposit(self, amount):\n",
    "        self.balance += amount\n",
    "\n",
    "    def withdraw(self, amount):\n",
    "        if self.balance >= amount:\n",
    "            self.balance -= amount\n",
    "        else:\n",
    "            print(\"Insufficient funds.\")\n",
    "\n",
    "    def get_balance(self):\n",
    "        return self.balance\n",
    "\n",
    "\n",
    "class SavingsAccount(BankAccount):\n",
    "    def __init__(self, account_number, account_holder, interest_rate):\n",
    "        super().__init__(account_number, account_holder)\n",
    "        self.interest_rate = interest_rate\n",
    "\n",
    "    def apply_interest(self):\n",
    "        self.balance += self.balance * self.interest_rate\n",
    "\n",
    "    def __str__(self):\n",
    "        return f\"Account Number: {self.account_number}\\nAccount Holder: {self.account_holder}\\nBalance: ${self.balance:.2f}\\nInterest Rate: {self.interest_rate*100:.2f}%\"\n",
    "\n",
    "\n",
    "# Create an instance of BankAccount\n",
    "bank_account = BankAccount(\"12345\", \"RAHAF\")\n",
    "\n",
    "# Perform a deposit of $1000\n",
    "bank_account.deposit(1000)\n",
    "print(f\"Current balance: ${bank_account.get_balance():.2f}\")\n",
    "\n",
    "# Perform a withdrawal of $500\n",
    "bank_account.withdraw(500)\n",
    "print(f\"Current balance: ${bank_account.get_balance():.2f}\")\n",
    "\n",
    "# Create an instance of SavingsAccount\n",
    "savings_account = SavingsAccount(\"67890\", \"RAHAF\", 0.05)\n",
    "savings_account.deposit(10)\n",
    "# Apply interest and print the current balance and rate\n",
    "savings_account.apply_interest()\n",
    "print(savings_account)"
   ]
  },
  {
   "cell_type": "code",
   "execution_count": null,
   "id": "26b17d89",
   "metadata": {},
   "outputs": [],
   "source": []
  }
 ],
 "metadata": {
  "kernelspec": {
   "display_name": "Python 3 (ipykernel)",
   "language": "python",
   "name": "python3"
  },
  "language_info": {
   "codemirror_mode": {
    "name": "ipython",
    "version": 3
   },
   "file_extension": ".py",
   "mimetype": "text/x-python",
   "name": "python",
   "nbconvert_exporter": "python",
   "pygments_lexer": "ipython3",
   "version": "3.11.2"
  }
 },
 "nbformat": 4,
 "nbformat_minor": 5
}
